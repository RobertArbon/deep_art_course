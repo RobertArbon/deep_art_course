{
  "nbformat": 4,
  "nbformat_minor": 0,
  "metadata": {
    "colab": {
      "name": "1_Basics.ipynb",
      "version": "0.3.2",
      "provenance": [],
      "collapsed_sections": [],
      "toc_visible": true,
      "include_colab_link": true
    },
    "kernelspec": {
      "name": "python3",
      "display_name": "Python 3"
    }
  },
  "cells": [
    {
      "cell_type": "markdown",
      "metadata": {
        "id": "view-in-github",
        "colab_type": "text"
      },
      "source": [
        "<a href=\"https://colab.research.google.com/github/RobertArbon/deep_art_course/blob/master/1_Basics.ipynb\" target=\"_parent\"><img src=\"https://colab.research.google.com/assets/colab-badge.svg\" alt=\"Open In Colab\"/></a>"
      ]
    },
    {
      "metadata": {
        "id": "OaYLmlcjswx-",
        "colab_type": "text"
      },
      "cell_type": "markdown",
      "source": [
        "# Programming basics\n",
        "\n",
        "This workbook will take you through some absolute basics of programming.  To run a cell press the `play` button (on the LHS) or press `shift + enter`"
      ]
    },
    {
      "metadata": {
        "id": "htZb9dZptozD",
        "colab_type": "text"
      },
      "cell_type": "markdown",
      "source": [
        "# Built in data types\n",
        "\n",
        "We need to understand the different data types that Python uses. Below are some examples of assigning different data types. \n",
        "\n",
        "**Exercise**\n",
        "1. use `type(x)` to find out what the type of each variable is. \n",
        "2. Google search for `data type` + *the data type you discovered* + `python 3` \n",
        "3. Create a `text` cell and copy and paste a relevant sentence of paragraph that describes that data type"
      ]
    },
    {
      "metadata": {
        "id": "FO7tcwfXtgeJ",
        "colab_type": "code",
        "colab": {
          "base_uri": "https://localhost:8080/",
          "height": 34
        },
        "outputId": "0dac2a44-b15d-4b9a-d00f-66e70d1100bc"
      },
      "cell_type": "code",
      "source": [
        "x = 0.1\n",
        "x"
      ],
      "execution_count": 3,
      "outputs": [
        {
          "output_type": "execute_result",
          "data": {
            "text/plain": [
              "0.1"
            ]
          },
          "metadata": {
            "tags": []
          },
          "execution_count": 3
        }
      ]
    },
    {
      "metadata": {
        "id": "7DYGxr1zupkn",
        "colab_type": "code",
        "colab": {
          "base_uri": "https://localhost:8080/",
          "height": 34
        },
        "outputId": "036397b2-3d37-49e2-8cd1-e3340c9eaa6b"
      },
      "cell_type": "code",
      "source": [
        "type(x)"
      ],
      "execution_count": 2,
      "outputs": [
        {
          "output_type": "execute_result",
          "data": {
            "text/plain": [
              "float"
            ]
          },
          "metadata": {
            "tags": []
          },
          "execution_count": 2
        }
      ]
    },
    {
      "metadata": {
        "id": "omMZ1BXRwN6n",
        "colab_type": "text"
      },
      "cell_type": "markdown",
      "source": [
        "https://www.digitalocean.com/community/tutorials/understanding-data-types-in-python-3\n",
        "\n",
        "A floating-point number or a float is a real number, meaning that it can be either a rational or an irrational number. Because of this, floating-point numbers can be numbers that can contain a fractional part, such as 9.0 or -116.42. Simply speaking, for the purposes of thinking of a float in a Python program, it is a number that contains a decimal point."
      ]
    },
    {
      "metadata": {
        "id": "Qqa9yk8gu-e9",
        "colab_type": "code",
        "colab": {}
      },
      "cell_type": "code",
      "source": [
        ""
      ],
      "execution_count": 0,
      "outputs": []
    }
  ]
}