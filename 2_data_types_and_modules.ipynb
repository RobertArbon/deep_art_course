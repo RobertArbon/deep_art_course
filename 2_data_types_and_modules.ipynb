{
  "nbformat": 4,
  "nbformat_minor": 0,
  "metadata": {
    "colab": {
      "name": "1_Data types and modules.ipynb",
      "version": "0.3.2",
      "provenance": [],
      "collapsed_sections": [],
      "toc_visible": true,
      "include_colab_link": true
    },
    "kernelspec": {
      "name": "python3",
      "display_name": "Python 3"
    }
  },
  "cells": [
    {
      "cell_type": "markdown",
      "metadata": {
        "id": "view-in-github",
        "colab_type": "text"
      },
      "source": [
        "<a href=\"https://colab.research.google.com/github/RobertArbon/deep_art_course/blob/master/1_Data_types_and_modules.ipynb\" target=\"_parent\"><img src=\"https://colab.research.google.com/assets/colab-badge.svg\" alt=\"Open In Colab\"/></a>"
      ]
    },
    {
      "metadata": {
        "id": "OaYLmlcjswx-",
        "colab_type": "text"
      },
      "cell_type": "markdown",
      "source": [
        "# Programming basics\n",
        "\n",
        "This workbook will take you through some absolute basics of programming.  To run a cell press the `play` button (on the LHS) or press `shift + enter`\n",
        "\n",
        "**RUN THE CELLS ONE BY ONE - DON'T *RUN ALL* **"
      ]
    },
    {
      "metadata": {
        "id": "htZb9dZptozD",
        "colab_type": "text"
      },
      "cell_type": "markdown",
      "source": [
        "# Built in data types\n",
        "\n",
        "We need to understand the different data types that Python uses. Below are some examples of assigning different data types. \n",
        "\n",
        "**Exercise**\n",
        "1. Create a new `code` cell (or just edit the given cell) and use `type(x)` to find out what the type of each variable is. \n",
        "2. Google search for `data type` + *the data type you discovered* + `python 3` \n",
        "3. Create a `text` cell and copy and paste a relevant sentence of paragraph that describes that data type\n",
        "4. Edit the title to reflect the data type. "
      ]
    },
    {
      "metadata": {
        "id": "36Y_sUSY_FlJ",
        "colab_type": "text"
      },
      "cell_type": "markdown",
      "source": [
        "## Floats (numbers with decimals)"
      ]
    },
    {
      "metadata": {
        "id": "FO7tcwfXtgeJ",
        "colab_type": "code",
        "outputId": "e1a5f611-ff5e-45d4-96f5-48810309e786",
        "colab": {
          "base_uri": "https://localhost:8080/",
          "height": 34
        }
      },
      "cell_type": "code",
      "source": [
        "# This is 'assignment'. \n",
        "# The '=' sign means place the value '0.1' in a variable called 'x'\n",
        "x = 0.1\n",
        "x"
      ],
      "execution_count": 9,
      "outputs": [
        {
          "output_type": "execute_result",
          "data": {
            "text/plain": [
              "0.1"
            ]
          },
          "metadata": {
            "tags": []
          },
          "execution_count": 9
        }
      ]
    },
    {
      "metadata": {
        "id": "7DYGxr1zupkn",
        "colab_type": "code",
        "outputId": "af7c5f24-b942-4cae-f28f-7027227a2b5d",
        "colab": {
          "base_uri": "https://localhost:8080/",
          "height": 181
        }
      },
      "cell_type": "code",
      "source": [
        "type(x)"
      ],
      "execution_count": 10,
      "outputs": [
        {
          "output_type": "error",
          "ename": "NameError",
          "evalue": "ignored",
          "traceback": [
            "\u001b[0;31m---------------------------------------------------------------------------\u001b[0m",
            "\u001b[0;31mNameError\u001b[0m                                 Traceback (most recent call last)",
            "\u001b[0;32m<ipython-input-3-191ea9c3d109>\u001b[0m in \u001b[0;36m<module>\u001b[0;34m()\u001b[0m\n\u001b[0;32m----> 1\u001b[0;31m \u001b[0mtype\u001b[0m\u001b[0;34m(\u001b[0m\u001b[0mx\u001b[0m\u001b[0;34m)\u001b[0m\u001b[0;34m\u001b[0m\u001b[0;34m\u001b[0m\u001b[0m\n\u001b[0m",
            "\u001b[0;31mNameError\u001b[0m: name 'x' is not defined"
          ]
        },
        {
          "output_type": "execute_result",
          "data": {
            "text/plain": [
              "float"
            ]
          },
          "metadata": {
            "tags": []
          },
          "execution_count": 10
        }
      ]
    },
    {
      "metadata": {
        "id": "omMZ1BXRwN6n",
        "colab_type": "text"
      },
      "cell_type": "markdown",
      "source": [
        "https://www.digitalocean.com/community/tutorials/understanding-data-types-in-python-3\n",
        "\n",
        "A floating-point number or a float is a real number, meaning that it can be either a rational or an irrational number. Because of this, floating-point numbers can be numbers that can contain a fractional part, such as 9.0 or -116.42. Simply speaking, for the purposes of thinking of a float in a Python program, it is a number that contains a decimal point."
      ]
    },
    {
      "metadata": {
        "id": "YgnK0gA0_QuF",
        "colab_type": "text"
      },
      "cell_type": "markdown",
      "source": [
        "## Data type 2"
      ]
    },
    {
      "metadata": {
        "id": "Qqa9yk8gu-e9",
        "colab_type": "code",
        "colab": {}
      },
      "cell_type": "code",
      "source": [
        "y = 1"
      ],
      "execution_count": 0,
      "outputs": []
    },
    {
      "metadata": {
        "id": "nXH4b9d9AjPG",
        "colab_type": "text"
      },
      "cell_type": "markdown",
      "source": [
        "## Data type 3"
      ]
    },
    {
      "metadata": {
        "id": "_a0vIaWcAnAe",
        "colab_type": "code",
        "colab": {}
      },
      "cell_type": "code",
      "source": [
        "z = 'strix_aluco'"
      ],
      "execution_count": 0,
      "outputs": []
    },
    {
      "metadata": {
        "id": "nPoAH7bFtLBx",
        "colab_type": "text"
      },
      "cell_type": "markdown",
      "source": [
        "## Data type 4"
      ]
    },
    {
      "metadata": {
        "id": "gUeBlA7dtO2x",
        "colab_type": "code",
        "colab": {}
      },
      "cell_type": "code",
      "source": [
        "talon = [1,2,3]"
      ],
      "execution_count": 0,
      "outputs": []
    },
    {
      "metadata": {
        "id": "XyDJi8z8tYgL",
        "colab_type": "code",
        "colab": {}
      },
      "cell_type": "code",
      "source": [
        ""
      ],
      "execution_count": 0,
      "outputs": []
    },
    {
      "metadata": {
        "id": "LpP0OgqLtq1p",
        "colab_type": "text"
      },
      "cell_type": "markdown",
      "source": [
        "## Data type 5"
      ]
    },
    {
      "metadata": {
        "id": "2mQA8udetses",
        "colab_type": "code",
        "colab": {}
      },
      "cell_type": "code",
      "source": [
        "beak = {'meat': 'falcon', 'fish': 'heron'}"
      ],
      "execution_count": 0,
      "outputs": []
    },
    {
      "metadata": {
        "id": "1SdoKDAOuQ_y",
        "colab_type": "text"
      },
      "cell_type": "markdown",
      "source": [
        "# Arithmetic \n",
        "\n",
        "We need to be able to do arithmetic and to count.  This is fairly simple in python. \n",
        "\n",
        "**Exercise**\n",
        "\n",
        "1. In each section (**Operation 1, Opertation 2** etc. ) below are examples of arithmetic operations. Work out what each symbol means. \n",
        "2. Note the answer (not the arithmetical answer) in text cell below and/or change the title accordingly.   "
      ]
    },
    {
      "metadata": {
        "id": "w3Nj3QENxnBd",
        "colab_type": "text"
      },
      "cell_type": "markdown",
      "source": [
        "## Operation 1 (addition)"
      ]
    },
    {
      "metadata": {
        "id": "2etPqEUGxuk_",
        "colab_type": "code",
        "colab": {}
      },
      "cell_type": "code",
      "source": [
        "x = 3\n",
        "y = 2\n",
        "z = x + y"
      ],
      "execution_count": 0,
      "outputs": []
    },
    {
      "metadata": {
        "id": "j_qgg6AKyMAm",
        "colab_type": "text"
      },
      "cell_type": "markdown",
      "source": [
        "The '+' symbol means addition. "
      ]
    },
    {
      "metadata": {
        "id": "5itF-mw2x7lx",
        "colab_type": "text"
      },
      "cell_type": "markdown",
      "source": [
        "## Operation 2"
      ]
    },
    {
      "metadata": {
        "id": "Qc9l-GL8SOt7",
        "colab_type": "code",
        "colab": {}
      },
      "cell_type": "code",
      "source": [
        "x = 10\n",
        "y = 2\n",
        "z = x/y"
      ],
      "execution_count": 0,
      "outputs": []
    },
    {
      "metadata": {
        "id": "BUJuSR1QSk8Q",
        "colab_type": "text"
      },
      "cell_type": "markdown",
      "source": [
        "## Operation 3\n"
      ]
    },
    {
      "metadata": {
        "id": "64gy9BVTSeNs",
        "colab_type": "code",
        "colab": {}
      },
      "cell_type": "code",
      "source": [
        "x = 4\n",
        "y = 5\n",
        "z = x*y"
      ],
      "execution_count": 0,
      "outputs": []
    },
    {
      "metadata": {
        "id": "LkES47SHSvJ0",
        "colab_type": "text"
      },
      "cell_type": "markdown",
      "source": [
        "## Operation 4"
      ]
    },
    {
      "metadata": {
        "id": "_Q8PFlwNSsnJ",
        "colab_type": "code",
        "colab": {
          "base_uri": "https://localhost:8080/",
          "height": 34
        },
        "outputId": "9bb6bbd3-abc5-4179-f53c-5cb270106f99"
      },
      "cell_type": "code",
      "source": [
        "x = 5\n",
        "y = 7\n",
        "z = x-y"
      ],
      "execution_count": 22,
      "outputs": [
        {
          "output_type": "execute_result",
          "data": {
            "text/plain": [
              "-2"
            ]
          },
          "metadata": {
            "tags": []
          },
          "execution_count": 22
        }
      ]
    },
    {
      "metadata": {
        "id": "M0Cx-KI8YNQs",
        "colab_type": "text"
      },
      "cell_type": "markdown",
      "source": [
        "## Operation 5 (subtle and tricky)"
      ]
    },
    {
      "metadata": {
        "id": "f_e3XpU_YQMD",
        "colab_type": "code",
        "colab": {
          "base_uri": "https://localhost:8080/",
          "height": 34
        },
        "outputId": "f7fb5b44-bf59-42a9-e2cf-4cbe85110765"
      },
      "cell_type": "code",
      "source": [
        "x = 5\n",
        "y = 2\n",
        "z = x//y"
      ],
      "execution_count": 34,
      "outputs": [
        {
          "output_type": "execute_result",
          "data": {
            "text/plain": [
              "2"
            ]
          },
          "metadata": {
            "tags": []
          },
          "execution_count": 34
        }
      ]
    },
    {
      "metadata": {
        "id": "BNxg6ENxTMxP",
        "colab_type": "text"
      },
      "cell_type": "markdown",
      "source": [
        "# Modules \n",
        "## Introduction\n",
        "To extend the functionality of Python we use modules.  \n",
        "\n",
        "Modules contain data types and functions (more on these later). \n",
        "\n",
        "One very import module is `numpy`.  It handles a very important type of data called an `array`.  We're going to be using these extensively. \n",
        "\n",
        "See here for the [numpy](https://docs.scipy.org/doc/numpy/user/quickstart.html) tutorial. \n",
        "\n",
        "\n"
      ]
    },
    {
      "metadata": {
        "id": "yJ7jkQyOXjPe",
        "colab_type": "text"
      },
      "cell_type": "markdown",
      "source": [
        "## How to use a module\n"
      ]
    },
    {
      "metadata": {
        "id": "gRGMre0UXfSQ",
        "colab_type": "text"
      },
      "cell_type": "markdown",
      "source": [
        "### Simple but clunky way\n",
        "\n",
        "This statement imports the functionality of numpy into our session"
      ]
    },
    {
      "metadata": {
        "id": "zVFuhEIOS-Y9",
        "colab_type": "code",
        "colab": {}
      },
      "cell_type": "code",
      "source": [
        "import numpy"
      ],
      "execution_count": 0,
      "outputs": []
    },
    {
      "metadata": {
        "id": "U9geQKLeWVo5",
        "colab_type": "text"
      },
      "cell_type": "markdown",
      "source": [
        "to use the data type 'array' we reference it thus: \n"
      ]
    },
    {
      "metadata": {
        "id": "-P5EKXieVUjd",
        "colab_type": "code",
        "colab": {
          "base_uri": "https://localhost:8080/",
          "height": 34
        },
        "outputId": "2302121e-752c-4198-95f5-dcd9144805f3"
      },
      "cell_type": "code",
      "source": [
        "my_numpy_array = numpy.array([1,2,3])\n",
        "my_numpy_array"
      ],
      "execution_count": 27,
      "outputs": [
        {
          "output_type": "execute_result",
          "data": {
            "text/plain": [
              "array([1, 2, 3])"
            ]
          },
          "metadata": {
            "tags": []
          },
          "execution_count": 27
        }
      ]
    },
    {
      "metadata": {
        "id": "bJkwsrpiWZDp",
        "colab_type": "text"
      },
      "cell_type": "markdown",
      "source": [
        "### Less clunky (best way)\n",
        "We can assign it to an alias:"
      ]
    },
    {
      "metadata": {
        "id": "5_cI0Hk4WX78",
        "colab_type": "code",
        "colab": {}
      },
      "cell_type": "code",
      "source": [
        "import numpy as np"
      ],
      "execution_count": 0,
      "outputs": []
    },
    {
      "metadata": {
        "id": "ZfMOigF-Wv9E",
        "colab_type": "text"
      },
      "cell_type": "markdown",
      "source": [
        "and reference it similarly"
      ]
    },
    {
      "metadata": {
        "id": "DQVbLyGcWDcV",
        "colab_type": "code",
        "colab": {
          "base_uri": "https://localhost:8080/",
          "height": 34
        },
        "outputId": "94779a0a-8b66-4fcb-e42d-36eda8dc710b"
      },
      "cell_type": "code",
      "source": [
        "my_numpy_array = np.array([1,2,3])\n",
        "my_numpy_array"
      ],
      "execution_count": 29,
      "outputs": [
        {
          "output_type": "execute_result",
          "data": {
            "text/plain": [
              "array([1, 2, 3])"
            ]
          },
          "metadata": {
            "tags": []
          },
          "execution_count": 29
        }
      ]
    },
    {
      "metadata": {
        "id": "uKBZ52_cW0sF",
        "colab_type": "text"
      },
      "cell_type": "markdown",
      "source": [
        "### Totally streamlined (but sometimes confusing)\n",
        "\n",
        "If we just want to access one or two data types/functions etc. from a module we can just import it directly: "
      ]
    },
    {
      "metadata": {
        "id": "OhVDDkEEWzWC",
        "colab_type": "code",
        "colab": {}
      },
      "cell_type": "code",
      "source": [
        "from numpy import array"
      ],
      "execution_count": 0,
      "outputs": []
    },
    {
      "metadata": {
        "id": "dG4hWVSXXWtX",
        "colab_type": "code",
        "colab": {
          "base_uri": "https://localhost:8080/",
          "height": 34
        },
        "outputId": "7e87e9b5-ead1-4fc3-be19-48c35894063a"
      },
      "cell_type": "code",
      "source": [
        "my_numpy_array = array([1,2,3])\n",
        "my_numpy_array"
      ],
      "execution_count": 31,
      "outputs": [
        {
          "output_type": "execute_result",
          "data": {
            "text/plain": [
              "array([1, 2, 3])"
            ]
          },
          "metadata": {
            "tags": []
          },
          "execution_count": 31
        }
      ]
    },
    {
      "metadata": {
        "id": "0fAE4vVnZWXG",
        "colab_type": "text"
      },
      "cell_type": "markdown",
      "source": [
        "## Submodules\n",
        "Most modules contain modules in them.  We can reference them using dots/periods '.'. \n",
        "\n",
        "The `numpy` module contains "
      ]
    },
    {
      "metadata": {
        "id": "XJmT8AUYZWCh",
        "colab_type": "code",
        "colab": {}
      },
      "cell_type": "code",
      "source": [
        ""
      ],
      "execution_count": 0,
      "outputs": []
    },
    {
      "metadata": {
        "id": "97qK2AYVXnf_",
        "colab_type": "text"
      },
      "cell_type": "markdown",
      "source": [
        "# Numpy arrays\n",
        "\n",
        "Very useful.  They can be any dimension: \n",
        "\n",
        "* 1-D array: like a list/line of numbers\n",
        "* 2-D array: like a square of numbers\n",
        "* 3-D array: like a cube of numbers\n",
        "* N-D array: like an N-dimensional hypercube of numbers (of course)"
      ]
    },
    {
      "metadata": {
        "id": "qMlEUEipYhqu",
        "colab_type": "text"
      },
      "cell_type": "markdown",
      "source": [
        "## Creating an array\n",
        "There are a myriad of ways"
      ]
    },
    {
      "metadata": {
        "id": "8ykMcFgQXY0v",
        "colab_type": "code",
        "colab": {}
      },
      "cell_type": "code",
      "source": [
        ""
      ],
      "execution_count": 0,
      "outputs": []
    }
  ]
}